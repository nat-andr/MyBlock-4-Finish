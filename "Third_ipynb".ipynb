{
  "nbformat": 4,
  "nbformat_minor": 0,
  "metadata": {
    "colab": {
      "name": " \"Third.ipynb\"",
      "provenance": [],
      "collapsed_sections": [],
      "authorship_tag": "ABX9TyN+bVeCwIJHB5QFUm3qTM4Z",
      "include_colab_link": true
    },
    "kernelspec": {
      "name": "python3",
      "display_name": "Python 3"
    },
    "language_info": {
      "name": "python"
    }
  },
  "cells": [
    {
      "cell_type": "markdown",
      "metadata": {
        "id": "view-in-github",
        "colab_type": "text"
      },
      "source": [
        "<a href=\"https://colab.research.google.com/github/nat-andr/MyBlock-4-Finish/blob/main/%22Third_ipynb%22.ipynb\" target=\"_parent\"><img src=\"https://colab.research.google.com/assets/colab-badge.svg\" alt=\"Open In Colab\"/></a>"
      ]
    },
    {
      "cell_type": "markdown",
      "metadata": {
        "id": "xqj-iRhbiDNj"
      },
      "source": [
        "# Третий файл"
      ]
    },
    {
      "cell_type": "code",
      "metadata": {
        "colab": {
          "base_uri": "https://localhost:8080/"
        },
        "id": "jMZQZUzJhfdL",
        "outputId": "8da68064-8779-4493-da08-273b3a5ff0c9"
      },
      "source": [
        "print('Kuku')"
      ],
      "execution_count": 1,
      "outputs": [
        {
          "output_type": "stream",
          "name": "stdout",
          "text": [
            "Kuku\n"
          ]
        }
      ]
    },
    {
      "cell_type": "markdown",
      "metadata": {
        "id": "61vsd8Yul7SC"
      },
      "source": [
        "$\\sqrt(3x-1)*(1+X)^3$\n"
      ]
    },
    {
      "cell_type": "code",
      "metadata": {
        "id": "rA0UMRFOnNHq"
      },
      "source": [
        "import matplotlib.pyplot as plt"
      ],
      "execution_count": 2,
      "outputs": []
    },
    {
      "cell_type": "code",
      "metadata": {
        "id": "OjiFAAITpKjI"
      },
      "source": [
        "import numpy as np"
      ],
      "execution_count": 3,
      "outputs": []
    },
    {
      "cell_type": "code",
      "metadata": {
        "id": "fqC36nq8pRRY"
      },
      "source": [
        "import random"
      ],
      "execution_count": 4,
      "outputs": []
    },
    {
      "cell_type": "code",
      "metadata": {
        "id": "t56kI_tUpX-h"
      },
      "source": [
        "import seaborn as sns"
      ],
      "execution_count": 5,
      "outputs": []
    },
    {
      "cell_type": "code",
      "metadata": {
        "id": "ANYlZtrep304"
      },
      "source": [
        "rolls=[random.randrange(1, 7) for i in range(600)]\n"
      ],
      "execution_count": 6,
      "outputs": []
    },
    {
      "cell_type": "code",
      "metadata": {
        "id": "NipU59TnqPBy"
      },
      "source": [
        "values,frequencies=np.unique(rolls,return_counts=True)"
      ],
      "execution_count": 7,
      "outputs": []
    },
    {
      "cell_type": "code",
      "metadata": {
        "id": "GGS2ZMGPqmUd"
      },
      "source": [
        "title=f\"Rolling a Six-Sided Die \""
      ],
      "execution_count": 8,
      "outputs": []
    },
    {
      "cell_type": "code",
      "metadata": {
        "id": "YcAvIfGAq8Sh"
      },
      "source": [
        "sns.set_style('whitegrid')"
      ],
      "execution_count": 9,
      "outputs": []
    },
    {
      "cell_type": "code",
      "metadata": {
        "id": "tS-xYeoOrERv",
        "colab": {
          "base_uri": "https://localhost:8080/",
          "height": 268
        },
        "outputId": "a4202e45-10ed-41e8-f750-13614ed1702b"
      },
      "source": [
        "axes=sns.barplot(x=values, y=frequencies,palette='bright')"
      ],
      "execution_count": 10,
      "outputs": [
        {
          "output_type": "display_data",
          "data": {
            "image/png": "[encoded data removed]",
            "text/plain": [
              "<Figure size 432x288 with 1 Axes>"
            ]
          },
          "metadata": {}
        }
      ]
    },
    {
      "cell_type": "code",
      "metadata": {
        "colab": {
          "base_uri": "https://localhost:8080/"
        },
        "id": "mX8ovG_-w21Y",
        "outputId": "1f99ffc3-047f-463f-ec65-f13d693a1cd0"
      },
      "source": [
        "axes.set_title(title)"
      ],
      "execution_count": 11,
      "outputs": [
        {
          "output_type": "execute_result",
          "data": {
            "text/plain": [
              "Text(0.5, 1.0, 'Rolling a Six-Sided Die ')"
            ]
          },
          "metadata": {},
          "execution_count": 11
        }
      ]
    },
    {
      "cell_type": "code",
      "metadata": {
        "colab": {
          "base_uri": "https://localhost:8080/"
        },
        "id": "GDJe-cTixAA7",
        "outputId": "6d650898-ffb2-4637-ac99-738b382fda88"
      },
      "source": [
        "axes.set(xlabel='Die Value', ylabel='Frequency')"
      ],
      "execution_count": 12,
      "outputs": [
        {
          "output_type": "execute_result",
          "data": {
            "text/plain": [
              "[Text(3.200000000000003, 0.5, 'Frequency'),\n",
              " Text(0.5, 3.1999999999999993, 'Die Value')]"
            ]
          },
          "metadata": {},
          "execution_count": 12
        }
      ]
    },
    {
      "cell_type": "code",
      "metadata": {
        "id": "LL3jd2G4rXoJ",
        "colab": {
          "base_uri": "https://localhost:8080/"
        },
        "outputId": "4a53a261-2925-4f13-abe7-3d852b838e06"
      },
      "source": [
        "axes.set_ylim(top=max(frequencies)*1.20)\n"
      ],
      "execution_count": 13,
      "outputs": [
        {
          "output_type": "execute_result",
          "data": {
            "text/plain": [
              "(0.0, 138.0)"
            ]
          },
          "metadata": {},
          "execution_count": 13
        }
      ]
    },
    {
      "cell_type": "code",
      "metadata": {
        "id": "R_ET523msF20"
      },
      "source": [
        "for bar,frequency in zip(axes.patches, frequencies):\n",
        "  text_x=bar.get_x()+bar.get_width()/2.0\n",
        "  text_y=bar.get_height()\n",
        "  text=f'{frequency:,}\\n{frequency / len(rolls):.3%}'\n",
        "  axes.text(text_x, text_y, text, \n",
        "            fontsize=11, ha='center', va='bottom')"
      ],
      "execution_count": 15,
      "outputs": []
    }
  ]
}